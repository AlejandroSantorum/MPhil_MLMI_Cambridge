{
 "cells": [
  {
   "cell_type": "code",
   "execution_count": 10,
   "metadata": {},
   "outputs": [
    {
     "name": "stdout",
     "output_type": "stream",
     "text": [
      "The autoreload extension is already loaded. To reload it, use:\n",
      "  %reload_ext autoreload\n"
     ]
    }
   ],
   "source": [
    "%load_ext autoreload\n",
    "%autoreload 2"
   ]
  },
  {
   "cell_type": "code",
   "execution_count": 11,
   "metadata": {},
   "outputs": [],
   "source": [
    "from Corpora import MovieReviewCorpus\n",
    "from Lexicon import SentimentLexicon\n",
    "from Statistics import SignTest\n",
    "from Classifiers import NaiveBayesText, SVMText\n",
    "from Extensions import SVMDoc2Vec"
   ]
  },
  {
   "cell_type": "code",
   "execution_count": 23,
   "metadata": {},
   "outputs": [
    {
     "name": "stdout",
     "output_type": "stream",
     "text": [
      "cv676_22202.txt\n",
      "('NEG', ['Starring', 'Dolly', 'Reed;', 'Cynthia', 'Myers;', 'Marcia', 'McBroom;', 'John', 'Lazar', '&', 'Michael', 'Blodgett', 'Bad'])\n",
      "('NEG', ['Bad'])\n",
      "('NEG', ['Bad'])\n",
      "('NEG', ['That', 'one', 'word', 'seems', 'to', 'pretty', 'much', 'sums', 'up', 'Beyond', 'The', 'Valley', 'Of', 'The', 'Dolls'])\n",
      "('NEG', ['If', 'that', 'summary', \"isn't\", 'enough', 'for', 'you,', 'how', 'about', 'T&A,', 'T&A,', 'T&A?'])\n",
      "('NEG', ['Still', \"haven't\", 'got', 'the', 'point?'])\n",
      "('NEG', ['Other', 'than', 'director', 'Russ', \"Meyer's\", 'predilection', 'for', 'casting', 'attractive', 'large', 'breasted', 'women', 'who', 'ultimately', 'expose', 'the', 'afore-mentioned', 'anatomical', 'areas,', 'there', 'is', 'really', 'only', 'one', 'other', 'reason', 'to', 'recommend', 'even', 'taking', 'a', 'look', 'at', 'this', 'movie'])\n",
      "('NEG', ['That', 'is', 'the', 'fact', 'that', 'it', 'was', 'co-written', 'by', 'famed', 'film', 'critic', 'Roger', 'Ebert,', 'who', 'also', 'was', 'responsible', 'for', 'the', 'screenplay'])\n",
      "('NEG', ['After', 'watching', 'this', 'movie', 'you', 'will', 'never', 'be', 'able', 'to', 'sit', 'through', 'another', 'one', 'of', 'his', 'reviews', 'where', 'he', 'gives', 'a', 'movie', 'a', 'thumbs', 'down', 'for', 'bad', 'writing', 'with', 'a', 'straight', 'face'])\n",
      "('NEG', ['This', 'movie', 'stinks', 'out', 'loud'])\n",
      "('NEG', ['Quite', 'frankly,', 'this', 'movie', 'deserves', 'aout', 'of', '10'])\n",
      "('NEG', ['But', 'there', 'are', 'parts', 'of', 'it', 'that', 'are', 'so', 'bad', 'they', 'are', 'almost', 'funny'])\n",
      "('NEG', ['So', \"I'm\", 'giving', 'it', 'aout', 'of', '10'])\n",
      "('NEG', ['And', 'maybe', 'that', 'is', 'too', 'generous'])\n",
      "('NEG', ['Right', 'from', 'the', 'opening', 'credits,', 'I', 'knew', 'that', 'I', 'had', 'a', 'class-A', 'bomb', 'on', 'my', 'hands'])\n",
      "('NEG', ['Not', 'only', 'are', 'the', 'way', 'the', 'credits', 'actually', 'shot', 'distracting,', 'but', 'the', 'first', 'scene', 'you', 'see', 'includes', 'a', 'big', 'breasted', 'young', 'woman', 'being', 'chased', 'by', 'a', 'guy', 'in', 'a', 'nazi', 'uniform'])\n",
      "('NEG', ['I', 'had', 'absolutely', 'no', 'idea', 'why', 'the', 'hell', 'that', 'was', 'happening', '(it', 'does', 'get', 'explained', 'later)', 'and', 'as', 'soon', 'as', 'the', 'first', 'scene', 'is', 'over,', 'we', 'cut', 'to', 'a', 'completely', 'unrelated', 'scene'])\n",
      "('NEG', ['To', 'be', 'honest,', 'as', 'I', 'sat', 'through', 'this', 'movie', 'mesmerized', 'by', 'just', 'how', 'incredibly', 'awful', 'it', 'was,', 'I', 'actually', 'forgot', 'about', 'the', 'seemingly', 'out', 'of', 'place', 'opening', 'until', 'it', 'popped', 'up', 'again', 'later', 'in', 'the', 'film'])\n",
      "('NEG', ['With', 'the', 'quality', 'of', 'the', 'writing', 'during', 'the', 'rest', 'of', 'the', 'film,', 'it', \"wouldn't\", 'have', 'surprised', 'me', 'if', 'the', 'opening', 'had', 'never', 'been', 'explained'])\n",
      "('NEG', ['So', 'what', 'is', 'this', 'movie', 'about?', 'you', 'ask'])\n",
      "('NEG', ['Like', 'it', 'really', 'matters'])\n",
      "('NEG', ['OK,', 'here', 'goes'])\n",
      "('NEG', ['This', 'all-girl', 'band', 'headed', 'by', 'Kelly', 'MacNamara', '(Dolly', 'Reed)', 'and', 'her', 'friends', 'go', 'to', 'Hollywood', 'to', 'try', 'to', 'gain', 'a', 'foothold', 'in', 'the', 'music', 'industry'])\n",
      "('NEG', ['Once', 'there,', 'they', 'do', 'manage', 'to', 'find', 'success', '(Due', 'as', 'much', 'to', 'their', 'hooters', 'as', 'anything', 'else', 'it', 'sure', \"wasn't\", 'for', 'their', 'brutally', 'bad', 'singing', 'voices),', 'and', 'the', 'movie', 'chronicles', 'how', 'their', 'lives', 'change', 'for', 'the', 'worse', 'as', 'the', 'pressures', 'of', 'fame', 'get', 'to', 'them'])\n",
      "('NEG', ['Everything', 'from', 'big', 'egos,', 'to', 'booze', 'and', 'drugs', 'to', 'free', 'flowing', 'sex', 'sends', 'them', 'on', 'a', 'downward', 'spiral'])\n",
      "('NEG', ['There', 'are', 'a', 'couple', 'of', 'other', 'idiotic', 'subplots', 'thrown', 'in', 'for', 'good', 'measure,', 'but', 'the', 'fame', 'is', 'the', 'one', 'that', 'pretty', 'much', 'sums', 'up', 'this', 'thing'])\n",
      "('NEG', ['Other', 'than', 'the', 'above-mentioned', 'obsession', 'with', 'big', 'knockers', 'that', 'Russ', 'Meyer', 'seemed', 'to', 'have'])\n",
      "('NEG', ['The', 'dialogue', 'is', 'so', 'incredibly', 'bad', 'that', 'it', 'literally', 'is', 'funny', 'in', 'parts'])\n",
      "('NEG', ['Mr'])\n",
      "('NEG', ['Now', 'I', 'ask', 'you,', 'with', 'lines', 'like', 'that', 'how', 'can', 'you', 'go', 'wrong?'])\n",
      "('NEG', ['Ebert', 'had', 'tried', 'to', 'inject', 'as', 'many', 'big', 'words', 'as', 'possible', 'into', 'the', 'dialogue'])\n",
      "('NEG', ['Maybe', 'he', 'thought', 'it', 'would', 'make', 'the', 'movie', 'seem', 'smarter'])\n",
      "('NEG', ['I', \"don't\", 'know,', 'but', 'all', 'the', 'big', 'words', 'in', 'the', 'world', \"wouldn't\", 'be', 'able', 'to', 'disguise', 'the', 'bad', 'writing', 'and', 'even', 'worse', 'acting'])\n",
      "('NEG', ['But', 'the', 'wretched', 'dialogue', 'goes', 'along', 'well', 'with', 'the', 'wretched', 'quality', 'of', 'everything', 'else', 'in', 'this', 'movie'])\n",
      "('NEG', [\"I've\", 'seen', 'home', 'movies', 'directed', 'better', 'than', 'Meyer', 'managed', 'with', 'this', 'turkey'])\n",
      "('NEG', ['In', 'fact,', 'there', 'is', 'one', 'scene--the', 'one', 'in', 'which', 'they', 'are', 'in', 'a', 'van', 'driving', 'to', 'Hollywood', 'to', 'make', 'their', 'fortunes--during', 'which', 'I', 'really', 'had', 'to', 'question', 'if', 'Meyer', 'or', 'his', 'editors', 'had', 'just', 'suffered', 'serious', 'head', 'injuries'])\n",
      "('NEG', ['Add', 'to', 'the', 'directing', 'and', 'writing', 'the', 'music', 'in', 'this', 'movie'])\n",
      "('NEG', ['I', 'almost', 'got', 'up', 'to', 'check', 'my', 'sound', 'system', 'to', 'see', 'if', 'it', 'was', 'broken,', 'there', 'was', 'such', 'a', 'pile', 'of', 'crap', 'emanating', 'from', 'the', 'speakers'])\n",
      "('NEG', ['Then', 'we', 'have', 'the', 'cast'])\n",
      "('NEG', ['First', 'lets', 'start', 'David', 'Gurian', 'who', 'played', 'Harris,', 'the', 'manager', 'of', 'the', 'band'])\n",
      "('NEG', ['This', 'has', 'got', 'to', 'be', 'the', 'goofiest', 'looking', 'guy', 'that', 'has', 'ever', 'set', 'foot', 'in', 'front', 'of', 'a', 'motion', 'picture', 'camera'])\n",
      "('NEG', ['Sadly,', 'his', 'acting', \"doesn't\", 'come', 'close', 'to', 'making', 'up', 'for', 'his', 'looks'])\n",
      "('NEG', ['If', 'you', 'have', 'been', 'following', 'along', 'up', 'to', 'this', 'point,', 'this', \"shouldn't\", 'surprise', 'you'])\n",
      "('NEG', [\"Meyer's\", 'stable', 'of', 'well', 'endowed', 'girls', 'also', 'have', 'the', 'benefit', 'of', 'being', 'fairly', 'attractive', 'to', 'go', 'along', 'with', 'their', 'other', 'assets'])\n",
      "('NEG', ['Dolly', 'Reed', 'plays', 'Kelly,', 'the', 'leader', 'of', 'the', 'band'])\n",
      "('NEG', ['And', 'no', 'surprise', 'here,', 'she', 'was', 'cast', 'for', 'her', 'cup', 'size,', 'not', 'her', 'talents'])\n",
      "('NEG', ['And', 'yes,', 'she', 'does', 'loose', 'the', 'shirt', 'a', 'few', 'times', 'and', 'display', 'her', 'impressive', 'talents'])\n",
      "('NEG', ['Sadly,', 'her', 'ass', 'is', 'almost', 'as', 'large', 'as', 'her', 'chest'])\n",
      "('NEG', ['Hey,', 'it', 'a', 'sexist', 'movie,', 'so', \"I'm\", 'writing', 'a', 'sexist', 'review'])\n",
      "('NEG', ['Then', 'we', 'have', 'former', 'Playboy', 'Playmate', 'Cynthia', 'Myers', 'in', 'a', 'fairly', 'small', 'role', 'as', 'Casey,', 'one', 'of', 'the', 'other', 'band', 'members'])\n",
      "('NEG', ['This', 'goes', 'along', 'with', 'the', 'rest', 'of', 'the', 'idiotic', 'thinking', 'in', 'the', 'movie'])\n",
      "('NEG', ['Meyer', 'casts', 'a', 'gorgeous', 'Playmate', 'with', 'a', 'rack', 'to', 'kill', 'for', 'and', 'who', 'obviously', 'has', 'no', 'acting', 'talent', 'at', 'all,', 'but', 'her', 'nude', 'scenes', 'are', 'the', 'biggest', 'disappointment', 'of', 'all'])\n",
      "('NEG', ['Sure', 'Russ,', 'now', 'is', 'the', 'time', 'to', 'get', 'artsy', 'and', 'throw', 'in', 'some', 'well', 'placed', 'shadows'])\n",
      "('NEG', ['On', 'the', 'up', 'side,', 'she', 'does', 'have', 'a', 'fun', 'lesbo', 'scene'])\n",
      "('NEG', ['I', 'sound', 'like', \"I'm\", 'writing', 'a', 'review', 'in', 'a', 'porn', 'magazine'])\n",
      "('NEG', ['But', 'hey,', \"I'll\", 'admit', 'it;', 'the', 'only', 'reason', 'that', 'I', 'actually', 'managed', 'to', 'sit', 'through', 'this', 'damn', 'movie', 'was', 'to', 'catch', 'a', 'look', 'at', 'Cynthia', 'Myers', 'naked'])\n",
      "('NEG', ['And', 'since', 'that', 'was', 'a', 'huge', 'disappointment,', 'I', 'pretty', 'much', 'wasted', 'two', 'hours', 'of', 'my', 'life', 'on', 'this', 'turkey'])\n",
      "('NEG', ['The', 'only', 'thing', 'that', 'I', 'can', 'say', 'about', 'this', 'movie', 'is', 'that', 'you', 'should', 'stay', 'away', 'from', 'it'])\n",
      "('NEG', ['Unless', 'of', 'course', 'you', 'want', 'to', 'feel', 'good', 'about', 'yourself', 'by', 'knowing', 'that', 'even', 'a', 'Pulitzer', 'Prize', 'winning', 'film', 'critic', 'like', 'Roger', 'Ebert', 'has', 'screwed', 'up', 'at', 'least', 'once', 'in', 'his', 'life', 'too'])\n",
      "('NEG', ['And', 'if', 'you', 'are', 'thinking', 'of', 'checking', 'it', 'out', 'for', 'the', 'double', \"D's--you\", 'are', 'better', 'off', 'just', 'downloading', 'nude', 'Cynthia', 'Myers', 'pictures', 'off', 'the', 'Internet'])\n",
      "('NEG', ['This', 'is', 'a', 'movie', 'that', 'should', 'be', 'avoided', 'at', 'all', 'costs'])\n",
      "('NEG', ['An', 'even', 'better', 'idea', 'might', 'be', 'to', 'require', 'video', 'stores', 'to', 'place', 'a', 'warning', 'on', 'the', 'box', 'of', 'Beyond', 'The', 'Valley', 'Of', 'The', 'Dolls--Beware:', 'This', 'movie', 'is', 'extremely', 'hazardous', 'to', 'your', 'common', 'sense'])\n",
      "('NEG', ['Proceed', 'with', 'extreme', 'caution'])\n",
      "--- classifying reviews using sentiment lexicon  ---\n"
     ]
    },
    {
     "ename": "ZeroDivisionError",
     "evalue": "float division by zero",
     "output_type": "error",
     "traceback": [
      "\u001b[0;31m---------------------------------------------------------------------------\u001b[0m",
      "\u001b[0;31mZeroDivisionError\u001b[0m                         Traceback (most recent call last)",
      "\u001b[0;32m<ipython-input-23-6efe71e32cf0>\u001b[0m in \u001b[0;36m<module>\u001b[0;34m\u001b[0m\n\u001b[1;32m     17\u001b[0m \u001b[0mlexicon\u001b[0m\u001b[0;34m.\u001b[0m\u001b[0mclassify\u001b[0m\u001b[0;34m(\u001b[0m\u001b[0mcorpus\u001b[0m\u001b[0;34m.\u001b[0m\u001b[0mreviews\u001b[0m\u001b[0;34m,\u001b[0m\u001b[0mthreshold\u001b[0m\u001b[0;34m,\u001b[0m\u001b[0mmagnitude\u001b[0m\u001b[0;34m=\u001b[0m\u001b[0;32mFalse\u001b[0m\u001b[0;34m)\u001b[0m\u001b[0;34m\u001b[0m\u001b[0;34m\u001b[0m\u001b[0m\n\u001b[1;32m     18\u001b[0m \u001b[0mtoken_preds\u001b[0m\u001b[0;34m=\u001b[0m\u001b[0mlexicon\u001b[0m\u001b[0;34m.\u001b[0m\u001b[0mpredictions\u001b[0m\u001b[0;34m\u001b[0m\u001b[0;34m\u001b[0m\u001b[0m\n\u001b[0;32m---> 19\u001b[0;31m \u001b[0mprint\u001b[0m\u001b[0;34m(\u001b[0m\u001b[0;34mf\"token-only results: {lexicon.getAccuracy():.2f}\"\u001b[0m\u001b[0;34m)\u001b[0m\u001b[0;34m\u001b[0m\u001b[0;34m\u001b[0m\u001b[0m\n\u001b[0m\u001b[1;32m     20\u001b[0m \u001b[0;34m\u001b[0m\u001b[0m\n\u001b[1;32m     21\u001b[0m \u001b[0mlexicon\u001b[0m\u001b[0;34m.\u001b[0m\u001b[0mclassify\u001b[0m\u001b[0;34m(\u001b[0m\u001b[0mcorpus\u001b[0m\u001b[0;34m.\u001b[0m\u001b[0mreviews\u001b[0m\u001b[0;34m,\u001b[0m\u001b[0mthreshold\u001b[0m\u001b[0;34m,\u001b[0m\u001b[0mmagnitude\u001b[0m\u001b[0;34m=\u001b[0m\u001b[0;32mTrue\u001b[0m\u001b[0;34m)\u001b[0m\u001b[0;34m\u001b[0m\u001b[0;34m\u001b[0m\u001b[0m\n",
      "\u001b[0;32m~/Desktop/MPhil_MLMI_Cambridge/MLMI13-Natural_Language_Processing/Lab/code/Analysis.py\u001b[0m in \u001b[0;36mgetAccuracy\u001b[0;34m(self)\u001b[0m\n\u001b[1;32m     44\u001b[0m         \u001b[0;31m# note: data set is balanced so just taking number of correctly classified over total\u001b[0m\u001b[0;34m\u001b[0m\u001b[0;34m\u001b[0m\u001b[0;34m\u001b[0m\u001b[0m\n\u001b[1;32m     45\u001b[0m         \u001b[0;31m# \"+\" = correctly classified and \"-\" = error\u001b[0m\u001b[0;34m\u001b[0m\u001b[0;34m\u001b[0m\u001b[0;34m\u001b[0m\u001b[0m\n\u001b[0;32m---> 46\u001b[0;31m         \u001b[0;32mreturn\u001b[0m \u001b[0mself\u001b[0m\u001b[0;34m.\u001b[0m\u001b[0mpredictions\u001b[0m\u001b[0;34m.\u001b[0m\u001b[0mcount\u001b[0m\u001b[0;34m(\u001b[0m\u001b[0;34m\"+\"\u001b[0m\u001b[0;34m)\u001b[0m\u001b[0;34m/\u001b[0m\u001b[0mfloat\u001b[0m\u001b[0;34m(\u001b[0m\u001b[0mlen\u001b[0m\u001b[0;34m(\u001b[0m\u001b[0mself\u001b[0m\u001b[0;34m.\u001b[0m\u001b[0mpredictions\u001b[0m\u001b[0;34m)\u001b[0m\u001b[0;34m)\u001b[0m\u001b[0;34m\u001b[0m\u001b[0;34m\u001b[0m\u001b[0m\n\u001b[0m",
      "\u001b[0;31mZeroDivisionError\u001b[0m: float division by zero"
     ]
    }
   ],
   "source": [
    "# retrieve corpus\n",
    "corpus=MovieReviewCorpus(stemming=False,pos=False)\n",
    "\n",
    "# use sign test for all significance testing\n",
    "signTest=SignTest()\n",
    "\n",
    "print(\"--- classifying reviews using sentiment lexicon  ---\")\n",
    "\n",
    "# read in lexicon\n",
    "lexicon=SentimentLexicon()\n",
    "\n",
    "# on average there are more positive than negative words per review (~7.13 more positive than negative per review)\n",
    "# to take this bias into account will use threshold (roughly the bias itself) to make it harder to classify as positive\n",
    "threshold=8\n",
    "\n",
    "# question 0.1\n",
    "lexicon.classify(corpus.reviews,threshold,magnitude=False)\n",
    "token_preds=lexicon.predictions\n",
    "print(f\"token-only results: {lexicon.getAccuracy():.2f}\")\n",
    "\n",
    "lexicon.classify(corpus.reviews,threshold,magnitude=True)\n",
    "magnitude_preds=lexicon.predictions\n",
    "print(f\"magnitude results:{lexicon.getAccuracy():.2f}\")\n",
    "\n",
    "# question 0.2\n",
    "p_value=signTest.getSignificance(token_preds,magnitude_preds)\n",
    "significance = \"significant\" if p_value < 0.05 else \"not significant\"\n",
    "print(f\"magnitude lexicon results are {significance} with respect to token-only\")"
   ]
  },
  {
   "cell_type": "code",
   "execution_count": null,
   "metadata": {},
   "outputs": [],
   "source": [
    "# question 1.0\n",
    "print(\"--- classifying reviews using Naive Bayes on held-out test set ---\")\n",
    "NB=NaiveBayesText(smoothing=False,bigrams=False,trigrams=False,discard_closed_class=False)\n",
    "NB.train(corpus.train)\n",
    "NB.test(corpus.test)\n",
    "# store predictions from classifier\n",
    "non_smoothed_preds=NB.predictions\n",
    "print(f\"Accuracy without smoothing: {NB.getAccuracy():.2f}\")"
   ]
  },
  {
   "cell_type": "code",
   "execution_count": null,
   "metadata": {},
   "outputs": [],
   "source": [
    "# question 2.0\n",
    "# use smoothing\n",
    "NB=NaiveBayesText(smoothing=True,bigrams=False,trigrams=False,discard_closed_class=False)\n",
    "NB.train(corpus.train)\n",
    "NB.test(corpus.test)\n",
    "smoothed_preds=NB.predictions\n",
    "# saving this for use later\n",
    "num_non_stemmed_features=len(NB.vocabulary)\n",
    "print(f\"Accuracy using smoothing: {NB.getAccuracy():.2f}\")\n",
    "\n",
    "\n",
    "# question 2.1\n",
    "# see if smoothing significantly improves results\n",
    "p_value=signTest.getSignificance(non_smoothed_preds,smoothed_preds)\n",
    "significance = \"significant\" if p_value < 0.05 else \"not significant\"\n",
    "print(f\"results using smoothing are {significance} with respect to no smoothing\")"
   ]
  },
  {
   "cell_type": "code",
   "execution_count": null,
   "metadata": {},
   "outputs": [],
   "source": [
    "# question 3.0\n",
    "print(\"--- classifying reviews using 10-fold cross-evaluation ---\")\n",
    "# using previous instantiated object\n",
    "NB.crossValidate(corpus)\n",
    "# using cross-eval for smoothed predictions from now on\n",
    "smoothed_preds=NB.predictions\n",
    "print(f\"Accuracy: {NB.getAccuracy():.3f}\")\n",
    "print(f\"Std. Dev: {NB.getStdDeviation()}\")"
   ]
  },
  {
   "cell_type": "code",
   "execution_count": null,
   "metadata": {},
   "outputs": [],
   "source": [
    "# question 4.0\n",
    "print(\"--- stemming corpus ---\")\n",
    "# retrieve corpus with tokenized text and stemming (using porter)\n",
    "stemmed_corpus=MovieReviewCorpus(stemming=True,pos=False)\n",
    "print(\"--- cross-validating NB using stemming ---\")\n",
    "NB.crossValidate(stemmed_corpus)\n",
    "stemmed_preds=NB.predictions\n",
    "print(f\"Accuracy: {NB.getAccuracy():.3f}\")\n",
    "print(f\"Std. Dev: {NB.getStdDeviation():.3f}\")\n",
    "\n",
    "# TODO Q4.1\n",
    "# see if stemming significantly improves results on smoothed NB\n",
    "\n",
    "# TODO Q4.2\n",
    "print(\"--- determining the number of features before/after stemming ---\")"
   ]
  },
  {
   "cell_type": "code",
   "execution_count": null,
   "metadata": {},
   "outputs": [],
   "source": [
    "# question Q5.0\n",
    "# cross-validate model using smoothing and bigrams\n",
    "print(\"--- cross-validating naive bayes using smoothing and bigrams ---\")\n",
    "NB=NaiveBayesText(smoothing=True,bigrams=True,trigrams=False,discard_closed_class=False)\n",
    "NB.crossValidate(corpus)\n",
    "smoothed_and_bigram_preds=NB.predictions\n",
    "print(f\"Accuracy: {NB.getAccuracy():.2f}\") \n",
    "print(f\"Std. Dev: {NB.getStdDeviation():.2f}\")\n",
    "\n",
    "\n",
    "# see if bigrams significantly improves results on smoothed NB only\n",
    "p_value=signTest.getSignificance(smoothed_preds,smoothed_and_bigram_preds)\n",
    "signifance = \"significant\" if p_value < 0.05 else \"not significant\"\n",
    "print(f\"results using smoothing and bigrams are {signifance} with respect to smoothing only\")\n",
    "\n",
    "\n",
    "# TODO Q5.1"
   ]
  },
  {
   "cell_type": "code",
   "execution_count": null,
   "metadata": {},
   "outputs": [],
   "source": [
    "# TODO Q6 and 6.1\n",
    "print(\"--- classifying reviews using SVM 10-fold cross-eval ---\")"
   ]
  },
  {
   "cell_type": "code",
   "execution_count": null,
   "metadata": {},
   "outputs": [],
   "source": [
    "# TODO Q7\n",
    "print(\"--- adding in POS information to corpus ---\")\n",
    "print(\"--- training svm on word+pos features ----\")\n",
    "print(\"--- training svm discarding closed-class words ---\")"
   ]
  },
  {
   "cell_type": "code",
   "execution_count": null,
   "metadata": {},
   "outputs": [],
   "source": [
    "# question 8.0\n",
    "print(\"--- using document embeddings ---\")"
   ]
  }
 ],
 "metadata": {
  "interpreter": {
   "hash": "aee8b7b246df8f9039afb4144a1f6fd8d2ca17a180786b69acc140d282b71a49"
  },
  "kernelspec": {
   "display_name": "Python 3.9.0 64-bit",
   "name": "python3"
  },
  "language_info": {
   "codemirror_mode": {
    "name": "ipython",
    "version": 3
   },
   "file_extension": ".py",
   "mimetype": "text/x-python",
   "name": "python",
   "nbconvert_exporter": "python",
   "pygments_lexer": "ipython3",
   "version": "3.9.0"
  }
 },
 "nbformat": 4,
 "nbformat_minor": 4
}
