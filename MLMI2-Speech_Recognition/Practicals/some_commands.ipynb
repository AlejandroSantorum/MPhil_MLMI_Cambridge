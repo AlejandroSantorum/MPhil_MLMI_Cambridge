{
 "cells": [
  {
   "cell_type": "markdown",
   "metadata": {},
   "source": [
    "### Initialization:\n",
    "- **HInit**: creates a single Gaussian HMM, taking as an input a prototype HMM definition and a set of training data files.\n",
    "- **HRest**: once a HMM has been initialized using HInit, its parameters can be re-estimated using this command, using Baum-Welch algorithm. This improves the training set likelihood and sometimes improves recognition results.\n",
    "\n",
    "Both HInit and HRest use fixed phone boundaries, as specified by the label file, but whereas HInit uses *Viterbi alignment* during re-estimation, HRest uses *Baum-Welch* training for each phone model.\n",
    "\n",
    "### Avoid using the hand-produced label boundaries:\n",
    "- Next stage of HMM training is to avoid using the hand-produced label boundaries by a technique known as **embedded training**. This is done by the command **HERest**, which simultaneously re-estimates the parameters of a full set of HMM definitions. Note that whereas HRest repeats the re-estimation procedure *repeatedly until convergence is reached*, HERest performs *just one iteration of re-estimation*."
   ]
  },
  {
   "cell_type": "markdown",
   "metadata": {},
   "source": [
    "### Folders:\n",
    "- **convert**: feature-type specific environment files and libraries (some of which are shared between feature types).\n",
    "- **data**: the coded TIMIT files.\n",
    "- **doc**: the HTK book and practical handout sheets.\n",
    "- **tools**: both HTK source *htksrc*, binaries *htkbin*, and various scripts (*steps* and *scripts* sub-directories)."
   ]
  },
  {
   "cell_type": "markdown",
   "metadata": {},
   "source": [
    "## **Feature types** (in convert directory):\n",
    "\n",
    "### FBRANK (fbk25d)\n",
    "In signal processing, a **filter bank (or filterbank)** is an array of bandpass filters that separates the input signal into multiple components, each one carrying a single frequency sub-band of the original signal.\n",
    "\n",
    "### MFCCs (mfc13d)\n",
    "\n",
    "In sound processing, the **mel-frequency cepstrum (MFC)** is a representation of the short-term power spectrum of a sound, based on a linear cosine transform of a log power spectrum on a nonlinear mel scale of frequency. In Fourier analysis, the *cepstrum* is the result of computing the inverse Fourier transform (IFT) of the logarithm of the estimated signal spectrum. The method is a tool for investigating periodic structures in frequency spectra.\n",
    "\n",
    "**Mel-frequency cepstral coefficients (MFCCs)** are coefficients that collectively describe a MFC. They are derived from a type of cepstral representation of the audio clip (a nonlinear \"spectrum-of-a-spectrum\"). The difference between the cepstrum and the mel-frequency cepstrum is that in the MFC, the frequency bands are equally spaced on the mel scale, which approximates the human auditory system's response more closely than the linearly-spaced frequency bands used in the normal spectrum. This frequency warping can allow for better representation of sound, for example, in audio compression.\n"
   ]
  },
  {
   "cell_type": "markdown",
   "metadata": {},
   "source": [
    "# **Front-end parameterisations**\n",
    "\n",
    "### Filter Bank\n",
    "- FBK_Z_Init\n",
    "```bash\n",
    "    ../tools/steps/step-mono -NUMMIXES 8 ../convert/fbk25d/env/environment_Z FBK_Z_Init/mono\n",
    "    ../tools/steps/step-decode $PWD/FBK_Z_Init/mono hmm84 FBK_Z_Init/decode-mono-hmm84\n",
    "```\n",
    "- FBK_D_Z_Init\n",
    "```bash\n",
    "    ../tools/steps/step-mono -NUMMIXES 8 ../convert/fbk25d/env/environment_D_Z FBK_D_Z_Init/mono\n",
    "    ../tools/steps/step-decode $PWD/FBK_D_Z_Init/mono hmm84 FBK_D_Z_Init/decode-mono-hmm84\n",
    "```\n",
    "- FBK_D_A_Z_Init\n",
    "```bash\n",
    "    ../tools/steps/step-mono -NUMMIXES 8 ../convert/fbk25d/env/environment_D_A_Z FBK_D_A_Z_Init/mono\n",
    "    ../tools/steps/step-decode $PWD/FBK_D_A_Z_Init/mono hmm84 FBK_D_A_Z_Init/decode-mono-hmm84\n",
    "```\n",
    "- FBK_Z_FlatStart\n",
    "```bash\n",
    "    ../tools/steps/step-mono -NUMMIXES 8 ../convert/fbk25d/env/environment_Z FBK_Z_FlatStart/mono\n",
    "    ../tools/steps/step-decode $PWD/FBK_Z_FlatStart/mono hmm84 FBK_Z_FlatStart/decode-mono-hmm84\n",
    "```\n",
    "- FBK_D_Z_FlatStart\n",
    "```bash\n",
    "    ../tools/steps/step-mono -NUMMIXES 8 ../convert/fbk25d/env/environment_D_Z FBK_D_Z_FlatStart/mono\n",
    "    ../tools/steps/step-decode $PWD/FBK_D_Z_FlatStart/mono hmm84 FBK_D_Z_FlatStart/decode-mono-hmm84\n",
    "```\n",
    "- FBK_D_A_Z_FlatStart\n",
    "```bash\n",
    "    ../tools/steps/step-mono -NUMMIXES 8 ../convert/fbk25d/env/environment_D_A_Z FBK_D_Z_FlatStart/mono\n",
    "    ../tools/steps/step-decode $PWD/FBK_D_A_Z_FlatStart/mono hmm84 FBK_D_A_Z_FlatStart/decode-mono-hmm84\n",
    "```\n",
    "\n",
    "### MFCCs\n",
    "- MFC_E_Z_Init\n",
    "```bash\n",
    "    ../tools/steps/step-mono -NUMMIXES 8 ../convert/mfc13d/env/environment_E_Z MFC_E_Z_Init/mono\n",
    "    ../tools/steps/step-decode $PWD/MFC_E_Z_Init/mono hmm84 MFC_E_Z_Init/decode-mono-hmm84\n",
    "```\n",
    "- MFC_E_D_Z_Init\n",
    "```bash\n",
    "    ../tools/steps/step-mono -NUMMIXES 8 ../convert/mfc13d/env/environment_E_Z MFC_E_D_Z_Init/mono\n",
    "    ../tools/steps/step-decode $PWD/MFC_E_D_Z_Init/mono hmm84 MFC_E_D_Z_Init/decode-mono-hmm84\n",
    "```\n",
    "- MFC_E_D_A_Z_Init\n",
    "```bash\n",
    "    ../tools/steps/step-mono -NUMMIXES 8 ../convert/mfc13d/env/environment_E_D_A_Z MFC_E_Z_Init/mono\n",
    "    ../tools/steps/step-decode $PWD/MFC_E_D_A_Z_Init/mono hmm84 MFC_E_D_A_Z_Init/decode-mono-hmm84\n",
    "```\n",
    "- MFC_E_Z_FlatStart\n",
    "```bash\n",
    "    ../tools/steps/step-mono -NUMMIXES 8 ../convert/mfc13d/env/environment_E_Z MFC_E_Z_FlatStart/mono\n",
    "    ../tools/steps/step-decode $PWD/MFC_E_Z_FlatStart/mono hmm84 MFC_E_Z_FlatStart/decode-mono-hmm84\n",
    "```\n",
    "- MFC_E_D_Z_FlatStart\n",
    "```bash\n",
    "    ../tools/steps/step-mono -NUMMIXES 8 ../convert/mfc13d/env/environment_E_Z MFC_E_D_Z_FlatStart/mono\n",
    "    ../tools/steps/step-decode $PWD/MFC_E_D_Z_FlatStart/mono hmm84 MFC_E_D_Z_FlatStart/decode-mono-hmm84\n",
    "```\n",
    "- MFC_E_D_A_Z_FlatStart\n",
    "```bash\n",
    "    ../tools/steps/step-mono -NUMMIXES 8 ../convert/mfc13d/env/environment_E_D_A_Z MFC_E_Z_FlatStart/mono\n",
    "    ../tools/steps/step-decode $PWD/MFC_E_D_A_Z_FlatStart/mono hmm84 MFC_E_D_A_Z_FlatStart/decode-mono-hmm84\n",
    "```"
   ]
  },
  {
   "cell_type": "markdown",
   "metadata": {},
   "source": [
    "# **Commands**"
   ]
  },
  {
   "cell_type": "markdown",
   "metadata": {},
   "source": [
    "The **exp** directory will be used to build and test various HMM systems."
   ]
  },
  {
   "cell_type": "code",
   "execution_count": null,
   "metadata": {},
   "outputs": [],
   "source": [
    "../tools/steps/step-mono -NUMMIXES 8 ../convert/fbk25d/env/environment_Z FBK_Z_Init/mono"
   ]
  },
  {
   "cell_type": "markdown",
   "metadata": {},
   "source": [
    "This command performs a sequence of steps in the FBK Z Init/mono directory with the appropriate environment file (defines a FBANK parameterisation with no differentials) and first estimates models using HInit in the hmm0 sub-directory, with HRest in the hmm1 sub-directory. This initialised model is used as the basis for HERest training starting in the hmm10 directory.\n",
    "\n",
    "The naming convention usually used (after initialisation steps) is that the first digits after hmm denote the number of Gaussians and the final digit denotes the number of HERest iterations. After 4 iterations of HERest the script increases the number of Gaussian components to 2 and performs 4 more iterations of HERest to form the MMF in hmm24. This procedure is repeated until the target number of mixture components specified by -NUMMIXES is reached."
   ]
  },
  {
   "cell_type": "code",
   "execution_count": null,
   "metadata": {},
   "outputs": [],
   "source": [
    "../tools/steps/step-decode $PWD/FBK_Z_Init/mono hmm84 FBK_Z_Init/decode-mono-hmm84"
   ]
  },
  {
   "cell_type": "markdown",
   "metadata": {},
   "source": []
  },
  {
   "cell_type": "markdown",
   "metadata": {},
   "source": []
  }
 ],
 "metadata": {
  "language_info": {
   "name": "plaintext"
  },
  "orig_nbformat": 4
 },
 "nbformat": 4,
 "nbformat_minor": 2
}
