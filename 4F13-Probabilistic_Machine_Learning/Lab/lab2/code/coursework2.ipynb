{
 "cells": [
  {
   "cell_type": "code",
   "execution_count": null,
   "metadata": {},
   "outputs": [],
   "source": [
    "\"\"\"\n",
    "In order to run the code as is, you will need scipy, pandas and tqdm installed \n",
    "(although tqdm is only needed for the progress bar, and pandas is only for the autocorrelation function)\n",
    "All of these can be installed (on linux) from the command interface using 'pip'\n",
    "\"\"\" \n",
    "\n",
    "import scipy.io as sio\n",
    "import numpy as np\n",
    "import matplotlib.pyplot as plt\n",
    "from gibbsrank import gibbs_sample\n",
    "from eprank import eprank\n",
    "import pandas\n",
    "from cw2 import sorted_barplot"
   ]
  },
  {
   "cell_type": "markdown",
   "metadata": {},
   "source": [
    "We first need to load the data, stored in \"tennis_data.mat\". The data consists of an array, $W$ containing the names of each player, and an array, G, containing the results of all of the matches in the season. "
   ]
  },
  {
   "cell_type": "code",
   "execution_count": null,
   "metadata": {},
   "outputs": [],
   "source": [
    "# set seed for reproducibility\n",
    "np.random.seed(0)\n",
    "# load data\n",
    "data = sio.loadmat('tennis_data.mat')\n",
    "# Array containing the names of each player\n",
    "W = data['W']\n",
    "# loop over array to format more nicely\n",
    "for i, player in enumerate(W):\n",
    "    W[i] = player[0]\n",
    "# Array of size num_games x 2. The first entry in each row is the winner of game i, the second is the loser\n",
    "G = data['G'] - 1\n",
    "# Number of players\n",
    "M = W.shape[0]\n",
    "# Number of Games\n",
    "N = G.shape[0]"
   ]
  },
  {
   "cell_type": "markdown",
   "metadata": {},
   "source": [
    "# Gibbs sampling (This may take a minute)"
   ]
  },
  {
   "cell_type": "code",
   "execution_count": null,
   "metadata": {
    "scrolled": true
   },
   "outputs": [],
   "source": [
    "# number of iterations\n",
    "num_iters = 1100\n",
    "# perform gibbs sampling, skill samples is an num_players x num_samples array\n",
    "skill_samples = gibbs_sample(G, M, num_iters)#, random_nums)\n"
   ]
  },
  {
   "cell_type": "code",
   "execution_count": null,
   "metadata": {},
   "outputs": [],
   "source": [
    "# Code for plotting the autocorrelation function for player p\n",
    "p = 5\n",
    "autocor = np.zeros(10)\n",
    "for i in range(10):\n",
    "    autocor[i]=pandas.Series.autocorr(pandas.Series(skill_samples[p,:]),lag=i)\n",
    "plt.plot(autocor)"
   ]
  },
  {
   "cell_type": "markdown",
   "metadata": {},
   "source": [
    "# EP ranking"
   ]
  },
  {
   "cell_type": "code",
   "execution_count": null,
   "metadata": {},
   "outputs": [],
   "source": [
    "num_iters = 3\n",
    "# run message passing algorithm, returns mean and precision for each player\n",
    "mean_player_skills, precision_player_skills = eprank(G, M, num_iters)"
   ]
  }
 ],
 "metadata": {
  "kernelspec": {
   "display_name": "gpflow_cpu",
   "language": "python",
   "name": "gpflow_cpu"
  },
  "language_info": {
   "codemirror_mode": {
    "name": "ipython",
    "version": 3
   },
   "file_extension": ".py",
   "mimetype": "text/x-python",
   "name": "python",
   "nbconvert_exporter": "python",
   "pygments_lexer": "ipython3",
   "version": "3.6.5"
  }
 },
 "nbformat": 4,
 "nbformat_minor": 2
}
